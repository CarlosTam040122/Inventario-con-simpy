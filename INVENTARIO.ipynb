{
  "nbformat": 4,
  "nbformat_minor": 0,
  "metadata": {
    "colab": {
      "provenance": []
    },
    "kernelspec": {
      "name": "python3",
      "display_name": "Python 3"
    },
    "language_info": {
      "name": "python"
    }
  },
  "cells": [
    {
      "cell_type": "code",
      "execution_count": 30,
      "metadata": {
        "colab": {
          "base_uri": "https://localhost:8080/",
          "height": 1000
        },
        "id": "p2mjkXcGSxmP",
        "outputId": "09f8be43-9ab4-44dc-b8a3-8b285cea7130"
      },
      "outputs": [
        {
          "output_type": "stream",
          "name": "stdout",
          "text": [
            "0.11 sold 1\n",
            "0.65 sold 2\n",
            "0.72 sold 4\n",
            "0.77 sold 2\n",
            "0.81 sold 2\n",
            "1.04 sold 2\n",
            "1.19 sold 3\n",
            "1.27 sold 1\n",
            "1.31 sold 3\n",
            "1.36 sold 3\n",
            "1.36 Place order for 23\n",
            "1.59 sold 4\n",
            "1.59 Place order for 27\n",
            "1.71 sold 2\n",
            "1.71 Place order for 29\n",
            "1.74 Sold 0 (out fo stock)\n",
            "1.74 Place order for 30\n",
            "2.04 Sold 0 (out fo stock)\n",
            "2.04 Place order for 30\n",
            "2.73 Sold 0 (out fo stock)\n",
            "2.73 Place order for 30\n",
            "2.75 Sold 0 (out fo stock)\n",
            "2.75 Place order for 30\n",
            "3.17 Sold 0 (out fo stock)\n",
            "3.17 Place order for 30\n",
            "3.36 Received order 30 in inventory\n",
            "3.52 sold 1\n",
            "3.53 sold 4\n",
            "3.54 sold 1\n",
            "3.56 sold 4\n",
            "3.59 Received order 20 in inventory\n",
            "3.71 Received order 20 in inventory\n",
            "3.74 Received order 20 in inventory\n",
            "3.78 sold 2\n",
            "3.94 sold 1\n",
            "4.00 sold 4\n",
            "4.04 Received order 13 in inventory\n",
            "4.24 sold 1\n",
            "4.34 sold 4\n",
            "4.34 Place order for 22\n",
            "4.62 sold 4\n",
            "4.62 Place order for 26\n",
            "4.73 Received order 30 in inventory\n",
            "4.75 Received order 30 in inventory\n",
            "4.84 sold 2\n",
            "4.90 sold 4\n",
            "4.95 sold 2\n"
          ]
        },
        {
          "output_type": "execute_result",
          "data": {
            "text/plain": [
              "Text(0, 0.5, 'Inventory level')"
            ]
          },
          "metadata": {},
          "execution_count": 30
        },
        {
          "output_type": "display_data",
          "data": {
            "text/plain": [
              "<Figure size 640x480 with 1 Axes>"
            ],
            "image/png": "[encoded data removed]"
          },
          "metadata": {}
        }
      ],
      "source": [
        "\n",
        "import simpy\n",
        "import numpy as np\n",
        "def warehouse_run(env, order_cutoff, order_target): #FUNCIONAMIENTO DEL DEPOSITO TOMANDO 3 ARGUMENTOS, ENV PARA EL ENTORNO DE LA SIMULACION\n",
        "    global inventory, balance, num_oredered    # order_cutoff es para el punto de reorden y order_target cantidad objetivo  # Se inicializan como variables globales\n",
        "    inventory = order_target\n",
        "    balance = 0.0\n",
        "    num_ordered = 0\n",
        "    while True:\n",
        "        interarrival=generate_interarrival()  #Genera un tiempo de llegada\n",
        "        yield env.timeout(interarrival) #Se espera el tiempo obtenido en interarrivañ\n",
        "        balance -=  inventory*2*interarrival  # Se actualiza el saldo restando el costo de mantener el inventario en el almacen ese tiempo\n",
        "        demand=generate_demand()  #genera una demanda entre 1 y 5\n",
        "        \"\"\" Si la demanda es menor que el inventario actual, se venden los productos correspondientes y se actualiza el saldo y el inventario.\n",
        "        Si la demanda es mayor o igual al inventario, se venden todos los productos disponibles y se muestra un mensaje indicando que no hay suficiente inventario.\"\"\"\n",
        "        if demand < inventory:\n",
        "            balance += 100*demand\n",
        "            inventory-=demand\n",
        "            print('{:.2f} sold {}'.format(env.now,demand))\n",
        "        else:\n",
        "            balance += 100*inventory\n",
        "            inventory =0\n",
        "            print('{:.2f} Sold {} (out fo stock)'.format(env.now,inventory))\n",
        "        \"\"\"Si el inventario es menor que el punto de reorden (order_cutoff) y no hay pedidos en proceso, se llama a la función handle_order para realizar un pedido.\"\"\"\n",
        "        if inventory< order_cutoff and num_ordered==0:\n",
        "            env.process(handle_order(env, order_target))\n",
        "####\n",
        "\"\"\"Simula el proceso de realizar un pedido. Se calcula la cantidad de productos a pedir (num_ordered), se actualiza el saldo y se espera un tiempo de 2.0 unidades(dias) utilizando env.timeout(2.0).\n",
        " Luego, se recibe el pedido, se actualiza el inventario y se muestra un mensaje indicando que el pedido ha sido recibido.\"\"\"\n",
        "def handle_order(env,order_target):\n",
        "    global inventory,balance, num_ordered\n",
        "    num_ordered = order_target -inventory\n",
        "    print('{:.2f} Place order for {}'.format(env.now,num_ordered))\n",
        "    balance -= 50*num_ordered\n",
        "    yield env.timeout(2.0)\n",
        "    inventory +=  num_ordered\n",
        "    num_ordered = 0\n",
        "    print('{:.2f} Received order {} in inventory'.format(env.now,inventory))\n",
        "#Genera valores aleatorios para el tiempo de llegada entre pedidos\n",
        "def generate_interarrival():\n",
        "    return np.random.exponential(1./5)\n",
        "#Genera valores aletorios de la demanda\n",
        "def generate_demand():\n",
        "    return np.random.randint(1,5)\n",
        "\n",
        "#Listas para almacenar datos de observacion\n",
        "obs_time = []\n",
        "inventory_level = []\n",
        "\"\"\"Observe se encarga de registrar los datos de observacion en las listas mencionadas anteriormente.\n",
        "En un bucle infinito, se añade el tiempo actual (env.now) a obs_time y el nivel de inventario actual a inventory_level.\n",
        "Luego, se espera un tiempo de 0.1 unidades utilizando env.timeout(0.1).\"\"\"\n",
        "def observe(env):\n",
        "    global inventory\n",
        "    while True:\n",
        "        obs_time.append(env.now)\n",
        "        inventory_level.append(inventory)\n",
        "        yield env.timeout(0.1)\n",
        "#SEMILLA ALEATORIA\n",
        "np.random.seed(0)\n",
        "#SIMULACION\n",
        "env = simpy.Environment()\n",
        "#Crean dos procesos en el entorno de simulacion\n",
        "env.process(warehouse_run(env,10,30))\n",
        "env.process(observe(env))\n",
        "#Se ejecuta la simulacion hasta un tiempo de 5 unidades utilizando\n",
        "env.run(until=5.0)\n",
        "#Se muestra un gráfico paso a paso (plt.step()) que representa el nivel de inventario en funcion del tiempo utilizando los datos almacenados en obs_time e inventory_level.\n",
        "import matplotlib.pyplot as plt\n",
        "plt.figure()\n",
        "plt.step(obs_time, inventory_level, where = 'post')\n",
        "plt.xlabel('Simulation time (days)')\n",
        "plt.ylabel('Inventory level')"
      ]
    },
    {
      "cell_type": "code",
      "source": [
        "pip install simpy"
      ],
      "metadata": {
        "colab": {
          "base_uri": "https://localhost:8080/"
        },
        "id": "08SAwSA2XEvC",
        "outputId": "15b221b8-dbc8-42ff-9d8b-db49661c94ba"
      },
      "execution_count": 5,
      "outputs": [
        {
          "output_type": "stream",
          "name": "stdout",
          "text": [
            "Looking in indexes: https://pypi.org/simple, https://us-python.pkg.dev/colab-wheels/public/simple/\n",
            "Collecting simpy\n",
            "  Downloading simpy-4.0.1-py2.py3-none-any.whl (29 kB)\n",
            "Installing collected packages: simpy\n",
            "Successfully installed simpy-4.0.1\n"
          ]
        }
      ]
    }
  ]
}